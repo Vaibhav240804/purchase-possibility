{
  "nbformat": 4,
  "nbformat_minor": 0,
  "metadata": {
    "colab": {
      "provenance": [],
      "gpuType": "T4"
    },
    "kernelspec": {
      "name": "python3",
      "display_name": "Python 3"
    },
    "language_info": {
      "name": "python"
    },
    "accelerator": "GPU"
  },
  "cells": [
    {
      "cell_type": "markdown",
      "source": [
        "**ML model based on Logistic regression to predict purchase possibility through ad with the help of info such as their age, gender and average salary**"
      ],
      "metadata": {
        "id": "SWW4cYG1xQ3d"
      }
    },
    {
      "cell_type": "code",
      "execution_count": 1,
      "metadata": {
        "colab": {
          "base_uri": "https://localhost:8080/"
        },
        "id": "GSBnm96Jw1Y-",
        "outputId": "0f1eee75-8d8d-46c8-9fc5-f1129f7e76c2"
      },
      "outputs": [
        {
          "output_type": "stream",
          "name": "stdout",
          "text": [
            "Mounted at /content/drive\n",
            "MyDrive  Shareddrives\n"
          ]
        }
      ],
      "source": [
        "import matplotlib.pyplot as plt\n",
        "import numpy as np\n",
        "import pandas as pd\n",
        "from google.colab import drive\n",
        "import os\n",
        "import copy\n",
        "import math\n",
        "from os import listdir, makedirs\n",
        "from os.path import join, exists\n",
        "from os import listdir\n",
        "drive.mount('/content/drive')\n",
        "os.chdir(\"/content/drive/\")\n",
        "%matplotlib inline\n",
        "!ls"
      ]
    },
    {
      "cell_type": "markdown",
      "source": [
        "taking male as 0 and female as 1 and dividing salary by 10,000"
      ],
      "metadata": {
        "id": "sv74xvyWjOVW"
      }
    },
    {
      "cell_type": "code",
      "source": [
        "\n",
        "data = pd.read_csv('/content/drive/My Drive/logistic_regression/Social_Network_Ads.csv')\n",
        "labels = [ 'Gender', 'Age', 'EstimatedSalary']\n",
        "print(len(data))\n",
        "X_train = data.iloc[:, 1:4]\n",
        "X_train[labels[2]] = X_train[labels[2]] / 1000\n",
        "y_train = data.iloc[:, 4]"
      ],
      "metadata": {
        "colab": {
          "base_uri": "https://localhost:8080/"
        },
        "id": "wogc7mfLyIVZ",
        "outputId": "e47066e6-a32e-47a0-d19e-f65eb69299ec"
      },
      "execution_count": 2,
      "outputs": [
        {
          "output_type": "stream",
          "name": "stdout",
          "text": [
            "400\n"
          ]
        }
      ]
    },
    {
      "cell_type": "markdown",
      "source": [],
      "metadata": {
        "id": "qmuFpegSjNmc"
      }
    },
    {
      "cell_type": "code",
      "source": [
        "gender = X_train[labels[0]]\n",
        "i = 0\n",
        "j = 0\n",
        "for gend in gender:\n",
        "  if gend == 'Male':\n",
        "    X_train[labels[0]][i] = 0\n",
        "  else:\n",
        "    X_train[labels[0]][i] = 1\n",
        "  i += 1\n"
      ],
      "metadata": {
        "colab": {
          "base_uri": "https://localhost:8080/"
        },
        "id": "qImu6r5yjM6e",
        "outputId": "9319a1fa-0767-4672-8609-f9f543073e0e"
      },
      "execution_count": 3,
      "outputs": [
        {
          "output_type": "stream",
          "name": "stderr",
          "text": [
            "<ipython-input-3-374af2390f5a>:6: SettingWithCopyWarning: \n",
            "A value is trying to be set on a copy of a slice from a DataFrame\n",
            "\n",
            "See the caveats in the documentation: https://pandas.pydata.org/pandas-docs/stable/user_guide/indexing.html#returning-a-view-versus-a-copy\n",
            "  X_train[labels[0]][i] = 0\n",
            "<ipython-input-3-374af2390f5a>:8: SettingWithCopyWarning: \n",
            "A value is trying to be set on a copy of a slice from a DataFrame\n",
            "\n",
            "See the caveats in the documentation: https://pandas.pydata.org/pandas-docs/stable/user_guide/indexing.html#returning-a-view-versus-a-copy\n",
            "  X_train[labels[0]][i] = 1\n"
          ]
        }
      ]
    },
    {
      "cell_type": "code",
      "source": [
        "print('First 3 elements of dataset are:\\n', X_train[:15])\n",
        "print(\"Datatype of X is \",type(X_train))"
      ],
      "metadata": {
        "colab": {
          "base_uri": "https://localhost:8080/"
        },
        "id": "-5lku2vQy9b_",
        "outputId": "a36091e1-53a2-4744-ae19-3e21d1783873"
      },
      "execution_count": 4,
      "outputs": [
        {
          "output_type": "stream",
          "name": "stdout",
          "text": [
            "First 3 elements of dataset are:\n",
            "    Gender  Age  EstimatedSalary\n",
            "0       0   19             19.0\n",
            "1       0   35             20.0\n",
            "2       1   26             43.0\n",
            "3       1   27             57.0\n",
            "4       0   19             76.0\n",
            "5       0   27             58.0\n",
            "6       1   27             84.0\n",
            "7       1   32            150.0\n",
            "8       0   25             33.0\n",
            "9       1   35             65.0\n",
            "10      1   26             80.0\n",
            "11      1   26             52.0\n",
            "12      0   20             86.0\n",
            "13      0   32             18.0\n",
            "14      0   18             82.0\n",
            "Datatype of X is  <class 'pandas.core.frame.DataFrame'>\n"
          ]
        }
      ]
    },
    {
      "cell_type": "code",
      "source": [
        "print(\"First five elements in y_train are:\\n\", y_train[:15])\n",
        "print(\"Type of y_train:\",type(y_train))"
      ],
      "metadata": {
        "colab": {
          "base_uri": "https://localhost:8080/"
        },
        "id": "tmErg0zUzobf",
        "outputId": "243fe8ee-5b4e-4feb-e07f-95464fe629a5"
      },
      "execution_count": 5,
      "outputs": [
        {
          "output_type": "stream",
          "name": "stdout",
          "text": [
            "First five elements in y_train are:\n",
            " 0     0\n",
            "1     0\n",
            "2     0\n",
            "3     0\n",
            "4     0\n",
            "5     0\n",
            "6     0\n",
            "7     1\n",
            "8     0\n",
            "9     0\n",
            "10    0\n",
            "11    0\n",
            "12    0\n",
            "13    0\n",
            "14    0\n",
            "Name: Purchased, dtype: int64\n",
            "Type of y_train: <class 'pandas.core.series.Series'>\n"
          ]
        }
      ]
    },
    {
      "cell_type": "code",
      "source": [
        "print(\"Shape of X_train is: \"+str(X_train.shape))\n",
        "print(\"Shape of y_train is: \"+str(y_train.shape))\n",
        "print(\"Number of training examples is %d\" % len(y_train))"
      ],
      "metadata": {
        "colab": {
          "base_uri": "https://localhost:8080/"
        },
        "id": "TpVuxHYK3PTb",
        "outputId": "79e571fb-6cf0-4660-a4af-598a5681050f"
      },
      "execution_count": 6,
      "outputs": [
        {
          "output_type": "stream",
          "name": "stdout",
          "text": [
            "Shape of X_train is: (400, 3)\n",
            "Shape of y_train is: (400,)\n",
            "Number of training examples is 400\n"
          ]
        }
      ]
    },
    {
      "cell_type": "code",
      "source": [
        "def sigmoid(z):\n",
        "  inv = 1/(1+np.exp(-z))\n",
        "  return inv"
      ],
      "metadata": {
        "id": "IGczGtzi98x4"
      },
      "execution_count": 7,
      "outputs": []
    },
    {
      "cell_type": "code",
      "source": [
        "value = sigmoid(0)\n",
        "print(value)"
      ],
      "metadata": {
        "colab": {
          "base_uri": "https://localhost:8080/"
        },
        "id": "z9VnwrlD-qR4",
        "outputId": "e2ab279f-4dac-4c00-9929-6194695ac53a"
      },
      "execution_count": 8,
      "outputs": [
        {
          "output_type": "stream",
          "name": "stdout",
          "text": [
            "0.5\n"
          ]
        }
      ]
    },
    {
      "cell_type": "code",
      "source": [
        "def compute_gradient(X, y, w, b, *argv): \n",
        "    \"\"\"\n",
        "    Computes the gradient for logistic regression \n",
        " \n",
        "    Args:\n",
        "      X : (ndarray Shape (m,n)) data, m examples by n features\n",
        "      y : (ndarray Shape (m,))  target value \n",
        "      w : (ndarray Shape (n,))  values of parameters of the model      \n",
        "      b : (scalar)              value of bias parameter of the model\n",
        "      *argv : unused, for compatibility with regularized version below\n",
        "    Returns\n",
        "      dj_dw : (ndarray Shape (n,)) The gradient of the cost w.r.t. the parameters w. \n",
        "      dj_db : (scalar)             The gradient of the cost w.r.t. the parameter b. \n",
        "    \"\"\"\n",
        "    m, n = X.shape\n",
        "    dj_dw = np.zeros(w.shape)\n",
        "    dj_db = 0.\n",
        "    i = 0\n",
        "    for index, row in X_train.iterrows():\n",
        "        f_wb_i = sigmoid(np.dot(row, w) + b)          #(n,)(n,)=scalar\n",
        "        err_i  = f_wb_i  - y[i]                       #scalar\n",
        "        dj_db = dj_db + err_i\n",
        "        for j in range(n):\n",
        "            dj_dw[j] += err_i * X[labels[j]][i] \n",
        "        i += 1\n",
        "    dj_dw = dj_dw/m                                   #(n,)\n",
        "    dj_db = dj_db/m                                   #scalar\n",
        "\n",
        "    return dj_db, dj_dw"
      ],
      "metadata": {
        "id": "3Q7v-1JsAqfo"
      },
      "execution_count": 9,
      "outputs": []
    },
    {
      "cell_type": "code",
      "source": [
        "def compute_cost_reg(X, y, w, b, lambda_ = 1):\n",
        "    \"\"\"\n",
        "    Computes the cost over all examples\n",
        "    Args:\n",
        "      X : (ndarray Shape (m,n)) data, m examples by n features\n",
        "      y : (ndarray Shape (m,))  target value \n",
        "      w : (ndarray Shape (n,))  values of parameters of the model      \n",
        "      b : (scalar)              value of bias parameter of the model\n",
        "      lambda_ : (scalar, float) Controls amount of regularization\n",
        "    Returns:\n",
        "      total_cost : (scalar)     cost \n",
        "    \"\"\"\n",
        "\n",
        "    m, n = X.shape\n",
        "\n",
        "    cost_without_reg = compute_cost(X, y, w, b) \n",
        "\n",
        "    reg_cost = 0.\n",
        "\n",
        "    for i in range(n):\n",
        "        reg_cost += w[i]**2\n",
        "    reg_cost = ((lambda_/(2 * m)) * reg_cost)\n",
        "\n",
        "    total_cost = cost_without_reg + reg_cost\n",
        "\n",
        "    return total_cost"
      ],
      "metadata": {
        "id": "adLyZLLiAfG3"
      },
      "execution_count": 10,
      "outputs": []
    },
    {
      "cell_type": "code",
      "source": [
        "def compute_cost(X, y, w, b, *argv):\n",
        "    \"\"\"\n",
        "    Computes the cost over all examples\n",
        "    Args:\n",
        "      X : (ndarray Shape (m,n)) data, m examples by n features\n",
        "      y : (ndarray Shape (m,))  target value \n",
        "      w : (ndarray Shape (n,))  values of parameters of the model      \n",
        "      b : (scalar)              value of bias parameter of the model\n",
        "      *argv : unused, for compatibility with regularized version below\n",
        "    Returns:\n",
        "      total_cost : (scalar) cost \n",
        "    \"\"\"\n",
        "\n",
        "    m, n = X.shape\n",
        "    \n",
        "    ### START CODE HERE ###\n",
        "    cost = 0.0\n",
        "    i = 0\n",
        "    for index, row in X_train.iterrows():\n",
        "        z_i = np.dot(row,w) + b\n",
        "        f_wb_i = sigmoid(z_i)\n",
        "        cost +=  -y[i]*np.log(f_wb_i) - (1-y[i])*np.log(1-f_wb_i)\n",
        "        i += 1\n",
        "    total_cost = cost / m\n",
        "    ### END CODE HERE ### \n",
        "\n",
        "    return total_cost"
      ],
      "metadata": {
        "id": "P0BpsqFXA7c3"
      },
      "execution_count": 11,
      "outputs": []
    },
    {
      "cell_type": "code",
      "source": [
        "def compute_gradient_reg(X, y, w, b, lambda_ = 1): \n",
        "    \"\"\"\n",
        "    Computes the gradient for logistic regression with regularization\n",
        " \n",
        "    Args:\n",
        "      X : (ndarray Shape (m,n)) data, m examples by n features\n",
        "      y : (ndarray Shape (m,))  target value \n",
        "      w : (ndarray Shape (n,))  values of parameters of the model      \n",
        "      b : (scalar)              value of bias parameter of the model\n",
        "      lambda_ : (scalar,float)  regularization constant\n",
        "    Returns\n",
        "      dj_db : (scalar)             The gradient of the cost w.r.t. the parameter b. \n",
        "      dj_dw : (ndarray Shape (n,)) The gradient of the cost w.r.t. the parameters w. \n",
        "\n",
        "    \"\"\"\n",
        "    m, n = X.shape\n",
        "    \n",
        "    dj_db, dj_dw = compute_gradient(X, y, w, b)\n",
        "   \n",
        "    for j in range(n):\n",
        "        dj_dw[j] += (lambda_/m)*w[j]      \n",
        "        \n",
        "    return dj_db, dj_dw"
      ],
      "metadata": {
        "id": "bvDnGC3V-1Cn"
      },
      "execution_count": 12,
      "outputs": []
    },
    {
      "cell_type": "code",
      "source": [
        "def gradient_descent(X, y, w_in, b_in, cost_function, gradient_function, alpha, num_iters, lambda_): \n",
        "    \"\"\"\n",
        "    Performs batch gradient descent to learn theta. Updates theta by taking \n",
        "    num_iters gradient steps with learning rate alpha\n",
        "    \n",
        "    Args:\n",
        "      X :    (ndarray Shape (m, n) data, m examples by n features\n",
        "      y :    (ndarray Shape (m,))  target value \n",
        "      w_in : (ndarray Shape (n,))  Initial values of parameters of the model\n",
        "      b_in : (scalar)              Initial value of parameter of the model\n",
        "      cost_function :              function to compute cost\n",
        "      gradient_function :          function to compute gradient\n",
        "      alpha : (float)              Learning rate\n",
        "      num_iters : (int)            number of iterations to run gradient descent\n",
        "      lambda_ : (scalar, float)    regularization constant\n",
        "      \n",
        "    Returns:\n",
        "      w : (ndarray Shape (n,)) Updated values of parameters of the model after\n",
        "          running gradient descent\n",
        "      b : (scalar)                Updated value of parameter of the model after\n",
        "          running gradient descent\n",
        "    \"\"\"\n",
        "    \n",
        "    # number of training examples\n",
        "    m = len(X)\n",
        "    \n",
        "    # An array to store cost J and w's at each iteration primarily for graphing later\n",
        "    J_history = []\n",
        "    w_history = []\n",
        "    \n",
        "    for i in range(num_iters):\n",
        "\n",
        "        # Calculate the gradient and update the parameters\n",
        "        dj_db, dj_dw = gradient_function(X, y, w_in, b_in, lambda_)   \n",
        "\n",
        "        # Update Parameters using w, b, alpha and gradient\n",
        "        w_in = w_in - alpha * dj_dw               \n",
        "        b_in = b_in - alpha * dj_db              \n",
        "       \n",
        "        # Save cost J at each iteration\n",
        "        if i<100000:      # prevent resource exhaustion \n",
        "            cost =  cost_function(X, y, w_in, b_in, lambda_)\n",
        "            J_history.append(cost)\n",
        "\n",
        "        # Print cost every at intervals 10 times or as many iterations if < 10\n",
        "        if i% math.ceil(num_iters/10) == 0 or i == (num_iters-1):\n",
        "            w_history.append(w_in)\n",
        "            print(f\"Iteration {i:4}: Cost {float(J_history[-1]):8.2f}   \")\n",
        "        \n",
        "    return w_in, b_in, J_history, w_history #return w and J,w history for graphing"
      ],
      "metadata": {
        "id": "Rh1gE2AaAa5q"
      },
      "execution_count": 13,
      "outputs": []
    },
    {
      "cell_type": "code",
      "source": [
        "def predict(X, w, b): \n",
        "    \"\"\"\n",
        "    Predict whether the label is 0 or 1 using learned logistic\n",
        "    regression parameters w\n",
        "    \n",
        "    Args:\n",
        "      X : (ndarray Shape (m,n)) data, m examples by n features\n",
        "      w : (ndarray Shape (n,))  values of parameters of the model      \n",
        "      b : (scalar)              value of bias parameter of the model\n",
        "\n",
        "    Returns:\n",
        "      p : (ndarray (m,)) The predictions for X using a threshold at 0.5\n",
        "    \"\"\"\n",
        "    # number of training examples\n",
        "    m, n = X.shape   \n",
        "    p = np.zeros(m)\n",
        "   \n",
        "    ### START CODE HERE ### \n",
        "    # Loop over each example\n",
        "    i = 0\n",
        "    for index, row in X.iterrows():\n",
        "        f_wb = sigmoid(np.dot(row,w) + b)\n",
        "        if(f_wb >= 0.5):\n",
        "            p[i] = 1\n",
        "        else:\n",
        "            p[i] = 0\n",
        "        i += 1\n",
        "    ### END CODE HERE ### \n",
        "    return p"
      ],
      "metadata": {
        "id": "R0bulNz4CCpE"
      },
      "execution_count": 33,
      "outputs": []
    },
    {
      "cell_type": "code",
      "source": [
        "np.random.seed(1)\n",
        "initial_w = 0.01 * (np.random.rand(3) - 0.5)\n",
        "initial_b = -8\n",
        "print(initial_w)\n",
        "# Some gradient descent settings\n",
        "iterations = 1000\n",
        "alpha = 0.001\n",
        "\n",
        "w,b, J_history, w_history= gradient_descent(X_train ,y_train, initial_w, initial_b, \n",
        "                                   compute_cost, compute_gradient, alpha, iterations, 0.01)"
      ],
      "metadata": {
        "colab": {
          "base_uri": "https://localhost:8080/"
        },
        "id": "FH5KTJ6PCDV0",
        "outputId": "c1903166-1d5e-43a5-c9ba-535b1fdd0cda"
      },
      "execution_count": 44,
      "outputs": [
        {
          "output_type": "stream",
          "name": "stdout",
          "text": [
            "[-0.00082978  0.00220324 -0.00499886]\n",
            "Iteration    0: Cost     1.76   \n",
            "Iteration  100: Cost     0.37   \n",
            "Iteration  200: Cost     0.37   \n",
            "Iteration  300: Cost     0.37   \n",
            "Iteration  400: Cost     0.37   \n",
            "Iteration  500: Cost     0.37   \n",
            "Iteration  600: Cost     0.37   \n",
            "Iteration  700: Cost     0.37   \n",
            "Iteration  800: Cost     0.37   \n",
            "Iteration  900: Cost     0.37   \n",
            "Iteration  999: Cost     0.37   \n"
          ]
        }
      ]
    },
    {
      "cell_type": "markdown",
      "source": [
        "Testing our logistic regression model"
      ],
      "metadata": {
        "id": "N-npQkygq7q9"
      }
    },
    {
      "cell_type": "code",
      "source": [
        "X_test = X_train[:20]\n",
        "print(\"Weights calculated are:\\n\")\n",
        "print(w)\n",
        "print(b)\n",
        "print(X_test)\n",
        "p = predict(X_test,w,b)"
      ],
      "metadata": {
        "id": "qW2jR-U1CR52",
        "colab": {
          "base_uri": "https://localhost:8080/"
        },
        "outputId": "2c0be7f1-1750-4180-f0f4-9cdea00d90b9"
      },
      "execution_count": 45,
      "outputs": [
        {
          "output_type": "stream",
          "name": "stdout",
          "text": [
            "Weights calculated are:\n",
            "\n",
            "[-0.01017778  0.14921535  0.02269733]\n",
            "-8.008033069397111\n",
            "   Gender  Age  EstimatedSalary\n",
            "0       0   19             19.0\n",
            "1       0   35             20.0\n",
            "2       1   26             43.0\n",
            "3       1   27             57.0\n",
            "4       0   19             76.0\n",
            "5       0   27             58.0\n",
            "6       1   27             84.0\n",
            "7       1   32            150.0\n",
            "8       0   25             33.0\n",
            "9       1   35             65.0\n",
            "10      1   26             80.0\n",
            "11      1   26             52.0\n",
            "12      0   20             86.0\n",
            "13      0   32             18.0\n",
            "14      0   18             82.0\n",
            "15      0   29             80.0\n",
            "16      0   47             25.0\n",
            "17      0   45             26.0\n",
            "18      0   46             28.0\n",
            "19      1   48             29.0\n"
          ]
        }
      ]
    },
    {
      "cell_type": "markdown",
      "source": [
        "calculating accuracy of our model"
      ],
      "metadata": {
        "id": "IhswnZPTssz2"
      }
    },
    {
      "cell_type": "code",
      "source": [
        "n = len(p)\n",
        "j = 0\n",
        "true = y_train[:20]\n",
        "for i in range(n):\n",
        "  if p[i] == true[i]:\n",
        "    j += 1\n",
        "pred = (j/n)*100.00"
      ],
      "metadata": {
        "id": "KSm2f92zrF-k"
      },
      "execution_count": 46,
      "outputs": []
    },
    {
      "cell_type": "code",
      "source": [
        "print(pred)"
      ],
      "metadata": {
        "colab": {
          "base_uri": "https://localhost:8080/"
        },
        "id": "dh5HzOy8uewe",
        "outputId": "d5493d29-d2d5-4911-f12c-4b120312a608"
      },
      "execution_count": 47,
      "outputs": [
        {
          "output_type": "stream",
          "name": "stdout",
          "text": [
            "80.0\n"
          ]
        }
      ]
    },
    {
      "cell_type": "code",
      "source": [],
      "metadata": {
        "id": "AeWOiFFPuhJP"
      },
      "execution_count": null,
      "outputs": []
    }
  ]
}